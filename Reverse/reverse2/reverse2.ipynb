{
 "cells": [
  {
   "cell_type": "code",
   "execution_count": 7,
   "id": "0902f9d4",
   "metadata": {},
   "outputs": [
    {
     "name": "stdout",
     "output_type": "stream",
     "text": [
      "CFATLYojtrHuMRZIJkqx"
     ]
    }
   ],
   "source": [
    "s=[0]*20\n",
    "s[0] = 67\n",
    "s[1] = 70\n",
    "s[2] = 65\n",
    "s[3] = 84\n",
    "s[4] = 76\n",
    "s[5] = 89\n",
    "s[6] = 111\n",
    "s[7] = 106\n",
    "s[8] = 116\n",
    "s[9] = 114\n",
    "s[12] = 77\n",
    "s[10] = 72\n",
    "s[11] = 117\n",
    "s[13] = 82\n",
    "s[18] = 113\n",
    "s[14] = 90\n",
    "s[15] = 73\n",
    "s[19] = 120\n",
    "s[16] = 74\n",
    "s[17] = 107\n",
    "for i in s:\n",
    "    print(chr(i),end = '')"
   ]
  }
 ],
 "metadata": {
  "kernelspec": {
   "display_name": "Python 3 (ipykernel)",
   "language": "python",
   "name": "python3"
  },
  "language_info": {
   "codemirror_mode": {
    "name": "ipython",
    "version": 3
   },
   "file_extension": ".py",
   "mimetype": "text/x-python",
   "name": "python",
   "nbconvert_exporter": "python",
   "pygments_lexer": "ipython3",
   "version": "3.9.13"
  }
 },
 "nbformat": 4,
 "nbformat_minor": 5
}
