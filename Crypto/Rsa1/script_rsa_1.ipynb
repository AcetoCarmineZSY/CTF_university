{
 "cells": [
  {
   "cell_type": "code",
   "execution_count": 1,
   "id": "601b6628",
   "metadata": {},
   "outputs": [],
   "source": [
    "import libnum\n",
    "import gmpy2\n",
    "from Crypto.PublicKey import RSA"
   ]
  },
  {
   "cell_type": "code",
   "execution_count": 2,
   "id": "3dd7343d",
   "metadata": {},
   "outputs": [
    {
     "name": "stdout",
     "output_type": "stream",
     "text": [
      "b'This is a plaintext!\\n\\nThis example shows exactly why it is a very bad idea to use the same\\nmodulus in two different keys.\\n\\nIf you broadcast a message with two different public exponents, then\\nan attacker can recover the plaintext in no time.\\n\\nOn the bright side, you got the flag: vfrbthvvrivnhgczctdcscdfv\\n\\nBy the way, you see how long a RSA 4096 message can be...\\nSince RSA is mostly used to encrypt a 128 to 256 bit AES key, there is\\nclearly a huge waste of space!\\nIn this sense, ECC schemes are better!\\n'\n"
     ]
    }
   ],
   "source": [
    "def convertBytesToInt(dataBytes) :\n",
    "    return int.from_bytes(dataBytes, byteorder='big')\n",
    "\n",
    "def convertIntToBytes(integer):\n",
    "    length = int(len(bin(integer))/8)\n",
    "    return integer.to_bytes(length, byteorder=\"big\")\n",
    "\n",
    "with open(\"pubkey1.pem\",\"rb\") as f:\n",
    "    key1 = RSA.import_key(f.read())\n",
    "    n = key1.n\n",
    "    e1 = key1.e\n",
    "\n",
    "with open(\"pubkey2.pem\",\"rb\") as f:\n",
    "    key2 = RSA.import_key(f.read())\n",
    "    n2 = key2.n\n",
    "    e2 = key2.e\n",
    "    \n",
    "fileciphertext1bin = open(\"ciphertext1.bin\", \"rb\")\n",
    "dataciphertext1bin = fileciphertext1bin.read()\n",
    "c1 = convertBytesToInt(dataciphertext1bin)\n",
    "\n",
    "fileciphertext2bin = open(\"ciphertext2.bin\", \"rb\")\n",
    "dataciphertext2bin = fileciphertext2bin.read()\n",
    "c2 = convertBytesToInt(dataciphertext2bin)\n",
    "    \n",
    "s,s1,s2=gmpy2.gcdext(e1,e2)\n",
    "m=(pow(c1,s1,n)*pow(c2,s2,n2)%n)\n",
    "\n",
    "print(convertIntToBytes(int(m)))"
   ]
  }
 ],
 "metadata": {
  "kernelspec": {
   "display_name": "Python 3 (ipykernel)",
   "language": "python",
   "name": "python3"
  },
  "language_info": {
   "codemirror_mode": {
    "name": "ipython",
    "version": 3
   },
   "file_extension": ".py",
   "mimetype": "text/x-python",
   "name": "python",
   "nbconvert_exporter": "python",
   "pygments_lexer": "ipython3",
   "version": "3.9.13"
  }
 },
 "nbformat": 4,
 "nbformat_minor": 5
}
