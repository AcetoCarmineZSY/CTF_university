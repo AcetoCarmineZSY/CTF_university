{
 "cells": [
  {
   "cell_type": "code",
   "execution_count": 1,
   "id": "4b3ef084",
   "metadata": {},
   "outputs": [
    {
     "name": "stdout",
     "output_type": "stream",
     "text": [
      "b'\\x02\\x80\\xa9\\x9ah\\x8c\\xa7\\x05\\xe3\\x12\\x1a\\x8d\\x8a\\xfeR\\xfff\\xd1\\x9dD\\x7f:\\xb1\\x1f\\xa6\\xa9\\xad\\x83GqX\\xa35\"l\\x01\\xd3b\\xcc\\xdca8\\xbf\\'\\x92\\xec\\xa4^\\x06\\xe9a8\\x16\\xdf\\xb89\\x88\\x87\\x0f\\xf4\\x0bkD\\x87\\xfe9l{\\xb7/\\xbb\\xe9\\x13\\xd4z\\xe3s\\xd6Ze\\xd4\\xa5\\x92[\\x0b;\\x88\\n\\xa2\\xd1oC\\xa2\\x1fn\\xea0.\\xa6\\x07\\x91\\x82\\x19\\xdf\\x8e\\x83\\x11t\\xe8\\xd8n\\xdd6v\\xb6H\\x0c\\xbc\\xe4\\x8c\\x13\\xdb\\xe5\\xde\\xb7F$\\xad0z\\xc8v\\xb3\\xb8\\xa5rR\\xac)\\xac.#6\\xec\\xc5\\x9b0\\xc7q\\xaf~\\xb8\\x14i\\x12\\x7f\\xfeG\\xe1\\x039\\xfd\\x1a\\x87#\\xa5\\xf6\\xae\\xd3B\\xceO\\xb1\\xfcx\\xb4\\x06\\x16\\xf8S\\xc6*\\x82\\x951Lq*\\x99,(\\xc0\\xa08\\xa3\\xa9\\xe9\\xf5\\xf3/\\xdf\\xf4\\xba\\xc10a\\\\\\xdd&0\\xfbg\\xbc%)z\\xf74\\x82M\\xad?\\xc2`Jz\\x94|@\\x9b#G\\xd5\\x0cw\\x9f\\x06\\xfa\\xfe\\x17K\\x85\\x1e{\\xcf+\\xcdG}\\x9b\\x98,\\xf9j\\xaaw\\x96\\x02\\xc6\\xa7\\xdf\\x18<T\\x87\\xb1\\xa6W\\xf8S\\x9f\\xb5\\x8deO\\xa7J\\x84\\xc9\\xcc\\x07lI\\'\\x90\\x03\\x92\\xe0\\x91\\xca\\x8c\\x9aK+\\x89\\xbfc\\xd6$R\\xf3\\xdcm\\x89\\n\\xd2\\x8d\\x0e\\x99\\xae\\xfazi\\xf0\\xd3\\xf1\\xb8\\x1cB\\xf5\\x96)\\x12\\xe9\\xd2\\r\\xef67\\x1d\\x05\\xcf\\x0f\\x15X\\xe5\\x07-\\xa5Z\\xad\\xbf\\xc6I\\xc3\\xa02D\\xeertc\\x9f\\xa0=\\xb25\\x94<\\xf4!\\xe1/\\xd88rFE\\xe5\"\\xa7^.\\x9e\\xda58s\\x18i\\x98\\xec>\\xa1\\xebK\\x11k3?N\\x99\\xa5\\x99\\x8a(\\xe4\\xd9\\x157\\xd5T2\\xc2A.\\xa7\\xfb\\x98\\xde\\xe7+\\xb4\\x1f\\x92\\x0fRjA*\\x9b\\x11U\\x96C\\x04@^\\x9d\\x80\\xc8\\x87k90\\xa7\\xb2t\\x9d\\xe1\\x03w\\xbdQ\\x07\\xaf\\xe8\\xb0[\\xff\\x00Bravo !\\r\\nVoici votre flag: secrets{fautMettreAJourSesLibs}\\r\\n'\n"
     ]
    }
   ],
   "source": [
    "from math import gcd\n",
    "from base64 import b64decode\n",
    "from Crypto.PublicKey import RSA\n",
    "from Crypto.Util.number import bytes_to_long, long_to_bytes, inverse\n",
    "\n",
    "pubkey = '''-----BEGIN RSA PUBLIC KEY-----\n",
    "MIICIjANBgkqhkiG9w0BAQEFAAOCAg8AMIICCgKCAgEAyyj+K5YrxLR0K1kurP0K\n",
    "GtOgXhnBKAkMJgiGu2OrbjRXHy0uATxajodcWbsKSjLuAgsDiO17ADYHBisIfiqo\n",
    "/eDcz7McDxtXX1qf0ToDjwxIvyPnhnPHLRG+kJqLy4FxX4f4gvJQV1hW3OwYgUa3\n",
    "ylAhPERMXfCReeQxpcwri8QFiW1vuxJIRnTpxIxeU1Ac5Ekce1YqUJHb07dKD6zt\n",
    "gVHUCsWJnPwcib+a8xjDuTfeMYzYx4FQWYEaYEAZ897ZO1iavnP1wE/dAh8WLDZF\n",
    "Sz5WqwViuF9O3jZG3Nl6CNZdhVGnkhxq8fgdbdo1cdxaffulxeiEm77lfs7Us166\n",
    "cZnVuxjPyIH12tpTAlG5ODFI49ru0tAKcihQgdaXggMr5SH00pN3QSVUumy7pLFw\n",
    "0mnqxO8vwXEwYe2zNMgEn+go0Wn9ksct2wEMIpbRLSHZcMZckX5iwnZuWvT+yY64\n",
    "KQEiHtTsE2o1Ih9GzpzOpHrkISOBZUtI+VaGAHiwYRKdgaAFTZ9Rk38Sgiv9dk9c\n",
    "HbggUzNtq7tpJw2rR9q5Kpl01QYpbddykuS1THstYGQNI6rvjx+WVW8ADR4hn/M7\n",
    "nsNxXAP1Zlj8fltX2csHpt3cF2Dq2rGILfvhyEFR3V2xZocUJFIoxh6IZHtbVPQI\n",
    "a48VlxsZD4bBTvr5d0eQfv0CAwEAAQ==\n",
    "-----END RSA PUBLIC KEY-----'''\n",
    "\n",
    "ct = '''RiK+IgIqPxRSkllkVR2PSJKpEUg95QvaukDIsa64a9Uzyaxw+d2arOIJNLOuZUPSJG3JFJVYjBwR\n",
    "NoISFY+vFfhMt/iMaCVrKewu5G4oco18c5OQDSzsDFkK1376/W8Di0PdmJbaita/mjaMIfEF1iUC\n",
    "+r3n8tBJH2Fz1xAkRTZqZpRh3ImvvOresidMICmVpNc1eQttY956csxMWKWh3UWvP7Czss0f78VL\n",
    "BPZBCA3Vu75KCq8t2H1s1WIa6jqDjI9dX4Pv+K3EqrFexGNHUAvGdrR8f1p2igc5/aatEA3UKYTG\n",
    "jpHnRhF42bHoztMrr3/As7poHVf15wcbirki6YGHxorwreGpy7YvCGLcQS9fGcFlQr6kfFbtPRcH\n",
    "Ci+HcMJV1ZzRSt7onW/yBFnG0uEhAQNhotYYxIT3l7nEZ/jTakS+57dtfPrhZOJSTwh5A8AY5R3X\n",
    "2nN0qUudgf2iFtVznNh0Put8mrn+aFaH3+Egvt/3T2El+sDlfvZdS95zU8sE3cvT2ip0AjoC5kTQ\n",
    "kzXq+ahSKpASuS411OhniNf8hGg5WbSOOg18BrftSBu/uRsoXLPMRATzI6PGwtnQfmE09fE4d1CB\n",
    "ChCbTy4etnVZRuS5HB7qvBKXUTdSZ4FBJxRg3sTQhiuqeV4Bhe5wFYszic/k+QfnMaXcQrPegUk='''\n",
    "ct = b64decode(ct)\n",
    "\n",
    "key = RSA.import_key(pubkey)\n",
    "N, e = key.n, key.e\n",
    "\n",
    "msg = b'\\x01\\xff\\xff\\xff\\xff\\xff\\xff\\xff\\xff\\xff\\xff\\xff\\xff\\xff\\xff\\xff\\xff\\xff\\xff\\xff\\xff\\xff\\xff\\xff\\xff\\xff\\xff\\xff\\xff\\xff\\xff\\xff\\xff\\xff\\xff\\xff\\xff\\xff\\xff\\xff\\xff\\xff\\xff\\xff\\xff\\xff\\xff\\xff\\xff\\xff\\xff\\xff\\xff\\xff\\xff\\xff\\xff\\xff\\xff\\xff\\xff\\xff\\xff\\xff\\xff\\xff\\xff\\xff\\xff\\xff\\xff\\xff\\xff\\xff\\xff\\xff\\xff\\xff\\xff\\xff\\xff\\xff\\xff\\xff\\xff\\xff\\xff\\xff\\xff\\xff\\xff\\xff\\xff\\xff\\xff\\xff\\xff\\xff\\xff\\xff\\xff\\xff\\xff\\xff\\xff\\xff\\xff\\xff\\xff\\xff\\xff\\xff\\xff\\xff\\xff\\xff\\xff\\xff\\xff\\xff\\xff\\xff\\xff\\xff\\xff\\xff\\xff\\xff\\xff\\xff\\xff\\xff\\xff\\xff\\xff\\xff\\xff\\xff\\xff\\xff\\xff\\xff\\xff\\xff\\xff\\xff\\xff\\xff\\xff\\xff\\xff\\xff\\xff\\xff\\xff\\xff\\xff\\xff\\xff\\xff\\xff\\xff\\xff\\xff\\xff\\xff\\xff\\xff\\xff\\xff\\xff\\xff\\xff\\xff\\xff\\xff\\xff\\xff\\xff\\xff\\xff\\xff\\xff\\xff\\xff\\xff\\xff\\xff\\xff\\xff\\xff\\xff\\xff\\xff\\xff\\xff\\xff\\xff\\xff\\xff\\xff\\xff\\xff\\xff\\xff\\xff\\xff\\xff\\xff\\xff\\xff\\xff\\xff\\xff\\xff\\xff\\xff\\xff\\xff\\xff\\xff\\xff\\xff\\xff\\xff\\xff\\xff\\xff\\xff\\xff\\xff\\xff\\xff\\xff\\xff\\xff\\xff\\xff\\xff\\xff\\xff\\xff\\xff\\xff\\xff\\xff\\xff\\xff\\xff\\xff\\xff\\xff\\xff\\xff\\xff\\xff\\xff\\xff\\xff\\xff\\xff\\xff\\xff\\xff\\xff\\xff\\xff\\xff\\xff\\xff\\xff\\xff\\xff\\xff\\xff\\xff\\xff\\xff\\xff\\xff\\xff\\xff\\xff\\xff\\xff\\xff\\xff\\xff\\xff\\xff\\xff\\xff\\xff\\xff\\xff\\xff\\xff\\xff\\xff\\xff\\xff\\xff\\xff\\xff\\xff\\xff\\xff\\xff\\xff\\xff\\xff\\xff\\xff\\xff\\xff\\xff\\xff\\xff\\xff\\xff\\xff\\xff\\xff\\xff\\xff\\xff\\xff\\xff\\xff\\xff\\xff\\xff\\xff\\xff\\xff\\xff\\xff\\xff\\xff\\xff\\xff\\xff\\xff\\xff\\xff\\xff\\xff\\xff\\xff\\xff\\xff\\xff\\xff\\xff\\xff\\xff\\xff\\xff\\xff\\xff\\xff\\xff\\xff\\xff\\xff\\xff\\xff\\xff\\xff\\xff\\xff\\xff\\xff\\xff\\xff\\xff\\xff\\xff\\xff\\xff\\xff\\xff\\xff\\xff\\xff\\xff\\xff\\xff\\xff\\xff\\xff\\xff\\xff\\xff\\xff\\xff\\xff\\xff\\xff\\xff\\xff\\xff\\xff\\xff\\xff\\xff\\xff\\xff\\xff\\xff\\xff\\xff\\xff\\xff\\xff\\xff\\xff\\xff\\xff\\xff\\xff\\xff\\xff\\xff\\xff\\xff\\xff\\xff\\xff\\xff\\xff\\xff\\xff\\xff\\xff\\xff\\xff\\xff\\xff\\xff\\xff\\xff\\xff\\xff\\xff\\xff\\xff\\xff\\xff\\xff\\xff\\xff\\xff\\xff\\xff\\xff\\xff\\xff\\xff\\xff\\xff\\xff\\xff\\xff\\xff\\xff\\xff\\xff\\xff\\xff\\xff\\xff\\xff\\xff\\xff\\xff\\xff\\xff\\xff\\xff\\xff\\xff\\xff\\xff\\xff\\xff\\xff\\xff\\xff\\x00Pic Sans Nom (3913 m)'\n",
    "sig = b64decode(\"sTL3fvslMBMcSWCELORElJ3Z54cOdM9+PnHg52AdREr9ELNogojXgzVRzRo8kYeMo/g5GL/0pb3USfWpbbiGIr1aHpwngHGolJ/6rQbT9h2Mgwb2O4UqWET2/MTGK1LFSNa8X/NbVEiJDFaAhfhtRp0914Ngm76qczGlbQEKI2OhhUU0t4oN6psvIOnuzwzIY2fxc/HePQKTsCeyTq6KNaxoIgGIYPkgNtIKWqZEi3Pf4R00IVYcw0H5ohhXQ3x7zXyla1AizVAGfzYpXcBNNAOrfoLEaSQ+fsxYiWsAwRShZDpctmtPyC+hld1WxZ5lxH5kk/EyZxMc+tjV6BVixBJmnBe9RDJwYWbAivdZ9r5eu6wQXPlNgj2/bFZkIV1GK2o5mqwY8her/SZ/Hruwg0pm93MccujCyceM37HbUVuNiDsfDq35A26w+V0h0tyyB/fdrLQ0/AOO6YEOkXIJ9TR8uTAng5b3b4eE8s2MSnccqRVC3bn+lZD+H5L3Rqpd559RFRLOOVbh/6SQ9PN4lyYwIu1bkAlq77psl8Ux4e1JpEWC/Gw5xBAuPUesZI8GKozbts+Oe9p4ph7i8chytD4faH4rCDcKTaGhfhyOVcsy07KyoGvctrZR1832FLnfjA966Laow9dU83nzvbuu9B0zVMfavlc3M85oJW7bsKA=\")\n",
    "assert long_to_bytes(pow(bytes_to_long(sig), e, N)) != msg\n",
    "\n",
    "p = gcd(pow(bytes_to_long(sig), e, N) - bytes_to_long(msg), N)\n",
    "q = N // p\n",
    "\n",
    "d = inverse(e, (p - 1) * (q - 1))\n",
    "pt = long_to_bytes(pow(bytes_to_long(ct), d, N))\n",
    "\n",
    "print(pt)"
   ]
  }
 ],
 "metadata": {
  "kernelspec": {
   "display_name": "Python 3 (ipykernel)",
   "language": "python",
   "name": "python3"
  },
  "language_info": {
   "codemirror_mode": {
    "name": "ipython",
    "version": 3
   },
   "file_extension": ".py",
   "mimetype": "text/x-python",
   "name": "python",
   "nbconvert_exporter": "python",
   "pygments_lexer": "ipython3",
   "version": "3.9.13"
  }
 },
 "nbformat": 4,
 "nbformat_minor": 5
}
